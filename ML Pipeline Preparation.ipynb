{
 "cells": [
  {
   "cell_type": "markdown",
   "metadata": {},
   "source": [
    "# ML Pipeline Preparation\n",
    "Follow the instructions below to help you create your ML pipeline.\n",
    "### 1. Import libraries and load data from database.\n",
    "- Import Python libraries\n",
    "- Load dataset from database with [`read_sql_table`](https://pandas.pydata.org/pandas-docs/stable/generated/pandas.read_sql_table.html)\n",
    "- Define feature and target variables X and Y"
   ]
  },
  {
   "cell_type": "code",
   "execution_count": 1,
   "metadata": {},
   "outputs": [
    {
     "name": "stdout",
     "output_type": "stream",
     "text": [
      "[nltk_data] Downloading package punkt to /root/nltk_data...\n",
      "[nltk_data]   Unzipping tokenizers/punkt.zip.\n",
      "[nltk_data] Downloading package stopwords to /root/nltk_data...\n",
      "[nltk_data]   Unzipping corpora/stopwords.zip.\n",
      "[nltk_data] Downloading package wordnet to /root/nltk_data...\n",
      "[nltk_data]   Unzipping corpora/wordnet.zip.\n"
     ]
    }
   ],
   "source": [
    "# import libraries\n",
    "from sqlalchemy import create_engine\n",
    "import pandas as pd\n",
    "import re\n",
    "import nltk\n",
    "from nltk.corpus import stopwords\n",
    "from nltk.stem.wordnet import WordNetLemmatizer\n",
    "from nltk.tokenize import word_tokenize\n",
    "nltk.download('punkt')\n",
    "nltk.download('stopwords')\n",
    "nltk.download('wordnet')\n",
    "import pickle"
   ]
  },
  {
   "cell_type": "code",
   "execution_count": 2,
   "metadata": {},
   "outputs": [],
   "source": [
    "from sklearn.pipeline import Pipeline , FeatureUnion\n",
    "from sklearn.multioutput import MultiOutputClassifier\n",
    "from sklearn.ensemble import RandomForestClassifier\n",
    "from sklearn.model_selection import train_test_split\n",
    "from sklearn.feature_extraction.text import CountVectorizer, TfidfTransformer\n",
    "from sklearn.metrics import classification_report\n",
    "from sklearn.model_selection import GridSearchCV\n",
    "from sklearn.tree import DecisionTreeClassifier"
   ]
  },
  {
   "cell_type": "code",
   "execution_count": 3,
   "metadata": {},
   "outputs": [],
   "source": [
    "# load data from database\n",
    "engine = create_engine('sqlite:///df_clean.db')\n",
    "df = pd.read_sql_table('df_clean', engine)\n",
    "X = df['message']\n",
    "Y = df.iloc[:, 4:]"
   ]
  },
  {
   "cell_type": "code",
   "execution_count": 9,
   "metadata": {},
   "outputs": [
    {
     "data": {
      "text/plain": [
       "related            20282\n",
       "aid_related        10860\n",
       "weather_related     7297\n",
       "direct_report       5075\n",
       "request             4474\n",
       "dtype: int64"
      ]
     },
     "execution_count": 9,
     "metadata": {},
     "output_type": "execute_result"
    }
   ],
   "source": [
    "Y.sum().sort_values(ascending  = False)[:5]"
   ]
  },
  {
   "cell_type": "markdown",
   "metadata": {},
   "source": [
    "### 2. Write a tokenization function to process your text data"
   ]
  },
  {
   "cell_type": "code",
   "execution_count": 6,
   "metadata": {},
   "outputs": [],
   "source": [
    "def tokenize(text):\n",
    "    # normalize case and remove punctuations\n",
    "    text = re.sub(r\"[^a-zA-Z0-9]\", \" \", text.lower())\n",
    "    #tokenize the text\n",
    "    tokens = word_tokenize(text)\n",
    "    # remove stop words and lemmatize the text\n",
    "    tokens = [WordNetLemmatizer().lemmatize(word) for word in tokens if word not in stopwords.words('english')]\n",
    "    \n",
    "    return tokens"
   ]
  },
  {
   "cell_type": "markdown",
   "metadata": {},
   "source": [
    "### 3. Build a machine learning pipeline\n",
    "This machine pipeline should take in the `message` column as input and output classification results on the other 36 categories in the dataset. You may find the [MultiOutputClassifier](http://scikit-learn.org/stable/modules/generated/sklearn.multioutput.MultiOutputClassifier.html) helpful for predicting multiple target variables."
   ]
  },
  {
   "cell_type": "code",
   "execution_count": 7,
   "metadata": {},
   "outputs": [],
   "source": [
    "pipeline = Pipeline([('vect', CountVectorizer()), ('tfidf', TfidfTransformer()),\n",
    "        ('multi_clf', MultiOutputClassifier(DecisionTreeClassifier()))])"
   ]
  },
  {
   "cell_type": "markdown",
   "metadata": {},
   "source": [
    "### 4. Train pipeline\n",
    "- Split data into train and test sets\n",
    "- Train pipeline"
   ]
  },
  {
   "cell_type": "code",
   "execution_count": 8,
   "metadata": {},
   "outputs": [],
   "source": [
    "X_train, X_test, Y_train, Y_test = train_test_split(X,Y, test_size = 0.2)"
   ]
  },
  {
   "cell_type": "markdown",
   "metadata": {},
   "source": [
    "### 5. Test your model\n",
    "Report the f1 score, precision and recall for each output category of the dataset. You can do this by iterating through the columns and calling sklearn's `classification_report` on each."
   ]
  },
  {
   "cell_type": "code",
   "execution_count": 9,
   "metadata": {},
   "outputs": [
    {
     "data": {
      "text/plain": [
       "Pipeline(memory=None,\n",
       "     steps=[('vect', CountVectorizer(analyzer='word', binary=False, decode_error='strict',\n",
       "        dtype=<class 'numpy.int64'>, encoding='utf-8', input='content',\n",
       "        lowercase=True, max_df=1.0, max_features=None, min_df=1,\n",
       "        ngram_range=(1, 1), preprocessor=None, stop_words=None,\n",
       "        strip...ion_leaf=0.0, presort=False, random_state=None,\n",
       "            splitter='best'),\n",
       "           n_jobs=1))])"
      ]
     },
     "execution_count": 9,
     "metadata": {},
     "output_type": "execute_result"
    }
   ],
   "source": [
    "pipeline.fit(X_train, Y_train)"
   ]
  },
  {
   "cell_type": "code",
   "execution_count": 10,
   "metadata": {},
   "outputs": [],
   "source": [
    "y_predict = pipeline.predict(X_test)"
   ]
  },
  {
   "cell_type": "code",
   "execution_count": 11,
   "metadata": {},
   "outputs": [
    {
     "name": "stdout",
     "output_type": "stream",
     "text": [
      "             precision    recall  f1-score   support\n",
      "\n",
      "          0       0.47      0.45      0.46      1208\n",
      "          1       0.83      0.85      0.84      3990\n",
      "          2       0.43      0.52      0.47        46\n",
      "\n",
      "avg / total       0.75      0.75      0.75      5244\n",
      "\n",
      "             precision    recall  f1-score   support\n",
      "\n",
      "          0       0.91      0.92      0.92      4356\n",
      "          1       0.59      0.57      0.58       888\n",
      "\n",
      "avg / total       0.86      0.86      0.86      5244\n",
      "\n",
      "             precision    recall  f1-score   support\n",
      "\n",
      "          0       0.99      1.00      1.00      5216\n",
      "          1       0.06      0.04      0.04        28\n",
      "\n",
      "avg / total       0.99      0.99      0.99      5244\n",
      "\n",
      "             precision    recall  f1-score   support\n",
      "\n",
      "          0       0.73      0.74      0.73      2996\n",
      "          1       0.65      0.64      0.64      2248\n",
      "\n",
      "avg / total       0.69      0.70      0.70      5244\n",
      "\n",
      "             precision    recall  f1-score   support\n",
      "\n",
      "          0       0.94      0.95      0.94      4798\n",
      "          1       0.37      0.34      0.36       446\n",
      "\n",
      "avg / total       0.89      0.90      0.89      5244\n",
      "\n",
      "             precision    recall  f1-score   support\n",
      "\n",
      "          0       0.97      0.97      0.97      4961\n",
      "          1       0.45      0.43      0.44       283\n",
      "\n",
      "avg / total       0.94      0.94      0.94      5244\n",
      "\n",
      "             precision    recall  f1-score   support\n",
      "\n",
      "          0       0.98      0.98      0.98      5111\n",
      "          1       0.28      0.25      0.26       133\n",
      "\n",
      "avg / total       0.96      0.96      0.96      5244\n",
      "\n",
      "             precision    recall  f1-score   support\n",
      "\n",
      "          0       0.99      0.98      0.99      5162\n",
      "          1       0.11      0.12      0.11        82\n",
      "\n",
      "avg / total       0.97      0.97      0.97      5244\n",
      "\n",
      "             precision    recall  f1-score   support\n",
      "\n",
      "          0       0.98      0.99      0.98      5056\n",
      "          1       0.50      0.36      0.42       188\n",
      "\n",
      "avg / total       0.96      0.96      0.96      5244\n",
      "\n",
      "             precision    recall  f1-score   support\n",
      "\n",
      "          0       1.00      1.00      1.00      5244\n",
      "\n",
      "avg / total       1.00      1.00      1.00      5244\n",
      "\n",
      "             precision    recall  f1-score   support\n",
      "\n",
      "          0       0.97      0.98      0.97      4911\n",
      "          1       0.62      0.59      0.61       333\n",
      "\n",
      "avg / total       0.95      0.95      0.95      5244\n",
      "\n",
      "             precision    recall  f1-score   support\n",
      "\n",
      "          0       0.97      0.96      0.96      4659\n",
      "          1       0.70      0.72      0.71       585\n",
      "\n",
      "avg / total       0.94      0.93      0.93      5244\n",
      "\n",
      "             precision    recall  f1-score   support\n",
      "\n",
      "          0       0.96      0.96      0.96      4730\n",
      "          1       0.63      0.59      0.61       514\n",
      "\n",
      "avg / total       0.92      0.93      0.93      5244\n",
      "\n",
      "             precision    recall  f1-score   support\n",
      "\n",
      "          0       0.99      0.99      0.99      5141\n",
      "          1       0.64      0.57      0.61       103\n",
      "\n",
      "avg / total       0.98      0.99      0.98      5244\n",
      "\n",
      "             precision    recall  f1-score   support\n",
      "\n",
      "          0       0.98      0.98      0.98      5128\n",
      "          1       0.32      0.31      0.31       116\n",
      "\n",
      "avg / total       0.97      0.97      0.97      5244\n",
      "\n",
      "             precision    recall  f1-score   support\n",
      "\n",
      "          0       0.99      0.99      0.99      5191\n",
      "          1       0.21      0.19      0.20        53\n",
      "\n",
      "avg / total       0.98      0.98      0.98      5244\n",
      "\n",
      "             precision    recall  f1-score   support\n",
      "\n",
      "          0       0.97      0.98      0.98      5055\n",
      "          1       0.36      0.30      0.33       189\n",
      "\n",
      "avg / total       0.95      0.96      0.95      5244\n",
      "\n",
      "             precision    recall  f1-score   support\n",
      "\n",
      "          0       0.98      0.98      0.98      5000\n",
      "          1       0.58      0.52      0.55       244\n",
      "\n",
      "avg / total       0.96      0.96      0.96      5244\n",
      "\n",
      "             precision    recall  f1-score   support\n",
      "\n",
      "          0       0.89      0.90      0.89      4545\n",
      "          1       0.30      0.28      0.29       699\n",
      "\n",
      "avg / total       0.81      0.82      0.81      5244\n",
      "\n",
      "             precision    recall  f1-score   support\n",
      "\n",
      "          0       0.94      0.94      0.94      4899\n",
      "          1       0.16      0.15      0.16       345\n",
      "\n",
      "avg / total       0.89      0.89      0.89      5244\n",
      "\n",
      "             precision    recall  f1-score   support\n",
      "\n",
      "          0       0.97      0.97      0.97      5017\n",
      "          1       0.32      0.28      0.30       227\n",
      "\n",
      "avg / total       0.94      0.94      0.94      5244\n",
      "\n",
      "             precision    recall  f1-score   support\n",
      "\n",
      "          0       0.97      0.97      0.97      4985\n",
      "          1       0.36      0.38      0.37       259\n",
      "\n",
      "avg / total       0.94      0.94      0.94      5244\n",
      "\n",
      "             precision    recall  f1-score   support\n",
      "\n",
      "          0       0.99      0.99      0.99      5143\n",
      "          1       0.43      0.35      0.38       101\n",
      "\n",
      "avg / total       0.98      0.98      0.98      5244\n",
      "\n",
      "             precision    recall  f1-score   support\n",
      "\n",
      "          0       1.00      0.99      1.00      5219\n",
      "          1       0.06      0.08      0.07        25\n",
      "\n",
      "avg / total       0.99      0.99      0.99      5244\n",
      "\n",
      "             precision    recall  f1-score   support\n",
      "\n",
      "          0       0.99      0.99      0.99      5190\n",
      "          1       0.14      0.13      0.14        54\n",
      "\n",
      "avg / total       0.98      0.98      0.98      5244\n",
      "\n",
      "             precision    recall  f1-score   support\n",
      "\n",
      "          0       0.99      1.00      1.00      5217\n",
      "          1       0.00      0.00      0.00        27\n",
      "\n",
      "avg / total       0.99      0.99      0.99      5244\n",
      "\n",
      "             precision    recall  f1-score   support\n",
      "\n",
      "          0       0.99      0.99      0.99      5166\n",
      "          1       0.18      0.12      0.14        78\n",
      "\n",
      "avg / total       0.97      0.98      0.98      5244\n",
      "\n",
      "             precision    recall  f1-score   support\n",
      "\n",
      "          0       0.96      0.96      0.96      5030\n",
      "          1       0.15      0.16      0.15       214\n",
      "\n",
      "avg / total       0.93      0.93      0.93      5244\n",
      "\n",
      "             precision    recall  f1-score   support\n",
      "\n",
      "          0       0.90      0.89      0.89      3786\n",
      "          1       0.72      0.74      0.73      1458\n",
      "\n",
      "avg / total       0.85      0.85      0.85      5244\n",
      "\n",
      "             precision    recall  f1-score   support\n",
      "\n",
      "          0       0.96      0.97      0.97      4820\n",
      "          1       0.62      0.59      0.60       424\n",
      "\n",
      "avg / total       0.94      0.94      0.94      5244\n",
      "\n",
      "             precision    recall  f1-score   support\n",
      "\n",
      "          0       0.97      0.96      0.96      4756\n",
      "          1       0.65      0.66      0.66       488\n",
      "\n",
      "avg / total       0.94      0.94      0.94      5244\n",
      "\n",
      "             precision    recall  f1-score   support\n",
      "\n",
      "          0       0.99      0.99      0.99      5183\n",
      "          1       0.34      0.33      0.34        61\n",
      "\n",
      "avg / total       0.98      0.98      0.98      5244\n",
      "\n",
      "             precision    recall  f1-score   support\n",
      "\n",
      "          0       0.98      0.98      0.98      4743\n",
      "          1       0.78      0.81      0.80       501\n",
      "\n",
      "avg / total       0.96      0.96      0.96      5244\n",
      "\n",
      "             precision    recall  f1-score   support\n",
      "\n",
      "          0       0.99      0.99      0.99      5138\n",
      "          1       0.45      0.42      0.43       106\n",
      "\n",
      "avg / total       0.98      0.98      0.98      5244\n",
      "\n",
      "             precision    recall  f1-score   support\n",
      "\n",
      "          0       0.96      0.96      0.96      4985\n",
      "          1       0.23      0.21      0.22       259\n",
      "\n",
      "avg / total       0.92      0.93      0.92      5244\n",
      "\n",
      "             precision    recall  f1-score   support\n",
      "\n",
      "          0       0.88      0.90      0.89      4246\n",
      "          1       0.53      0.49      0.51       998\n",
      "\n",
      "avg / total       0.82      0.82      0.82      5244\n",
      "\n"
     ]
    }
   ],
   "source": [
    "for i in range(Y_test.shape[1]):\n",
    "    print(classification_report(Y_test.values[:,i], y_predict[:, i]))"
   ]
  },
  {
   "cell_type": "markdown",
   "metadata": {},
   "source": [
    "### 6. Improve your model\n",
    "Use grid search to find better parameters. "
   ]
  },
  {
   "cell_type": "code",
   "execution_count": 12,
   "metadata": {},
   "outputs": [],
   "source": [
    "parameters = {'tfidf__use_idf':(True, False), 'multi_clf__estimator__max_depth': [5, 10]}\n",
    "\n",
    "cv = GridSearchCV(pipeline, param_grid = parameters, n_jobs = -1, verbose = 5)"
   ]
  },
  {
   "cell_type": "code",
   "execution_count": 13,
   "metadata": {},
   "outputs": [
    {
     "name": "stdout",
     "output_type": "stream",
     "text": [
      "Fitting 3 folds for each of 4 candidates, totalling 12 fits\n",
      "[CV] multi_clf__estimator__max_depth=5, tfidf__use_idf=True ..........\n",
      "[CV]  multi_clf__estimator__max_depth=5, tfidf__use_idf=True, score=0.18395079387784294, total=   9.2s\n",
      "[CV] multi_clf__estimator__max_depth=5, tfidf__use_idf=True ..........\n"
     ]
    },
    {
     "name": "stderr",
     "output_type": "stream",
     "text": [
      "[Parallel(n_jobs=-1)]: Done   1 out of   1 | elapsed:    9.7s remaining:    0.0s\n"
     ]
    },
    {
     "name": "stdout",
     "output_type": "stream",
     "text": [
      "[CV]  multi_clf__estimator__max_depth=5, tfidf__use_idf=True, score=0.19053068230582176, total=   9.1s\n",
      "[CV] multi_clf__estimator__max_depth=5, tfidf__use_idf=True ..........\n"
     ]
    },
    {
     "name": "stderr",
     "output_type": "stream",
     "text": [
      "[Parallel(n_jobs=-1)]: Done   2 out of   2 | elapsed:   19.2s remaining:    0.0s\n"
     ]
    },
    {
     "name": "stdout",
     "output_type": "stream",
     "text": [
      "[CV]  multi_clf__estimator__max_depth=5, tfidf__use_idf=True, score=0.19127324749642347, total=   9.5s\n",
      "[CV] multi_clf__estimator__max_depth=5, tfidf__use_idf=False .........\n"
     ]
    },
    {
     "name": "stderr",
     "output_type": "stream",
     "text": [
      "[Parallel(n_jobs=-1)]: Done   3 out of   3 | elapsed:   29.2s remaining:    0.0s\n"
     ]
    },
    {
     "name": "stdout",
     "output_type": "stream",
     "text": [
      "[CV]  multi_clf__estimator__max_depth=5, tfidf__use_idf=False, score=0.1815190959805464, total=   8.1s\n",
      "[CV] multi_clf__estimator__max_depth=5, tfidf__use_idf=False .........\n"
     ]
    },
    {
     "name": "stderr",
     "output_type": "stream",
     "text": [
      "[Parallel(n_jobs=-1)]: Done   4 out of   4 | elapsed:   37.8s remaining:    0.0s\n"
     ]
    },
    {
     "name": "stdout",
     "output_type": "stream",
     "text": [
      "[CV]  multi_clf__estimator__max_depth=5, tfidf__use_idf=False, score=0.20097267915891862, total=   7.9s\n",
      "[CV] multi_clf__estimator__max_depth=5, tfidf__use_idf=False .........\n",
      "[CV]  multi_clf__estimator__max_depth=5, tfidf__use_idf=False, score=0.20758226037195995, total=   8.1s\n",
      "[CV] multi_clf__estimator__max_depth=10, tfidf__use_idf=True .........\n",
      "[CV]  multi_clf__estimator__max_depth=10, tfidf__use_idf=True, score=0.2065512802174224, total=  18.7s\n",
      "[CV] multi_clf__estimator__max_depth=10, tfidf__use_idf=True .........\n",
      "[CV]  multi_clf__estimator__max_depth=10, tfidf__use_idf=True, score=0.2118437991703619, total=  18.3s\n",
      "[CV] multi_clf__estimator__max_depth=10, tfidf__use_idf=True .........\n",
      "[CV]  multi_clf__estimator__max_depth=10, tfidf__use_idf=True, score=0.2034334763948498, total=  18.8s\n",
      "[CV] multi_clf__estimator__max_depth=10, tfidf__use_idf=False ........\n",
      "[CV]  multi_clf__estimator__max_depth=10, tfidf__use_idf=False, score=0.20626519811185812, total=  16.4s\n",
      "[CV] multi_clf__estimator__max_depth=10, tfidf__use_idf=False ........\n",
      "[CV]  multi_clf__estimator__max_depth=10, tfidf__use_idf=False, score=0.20125876126448292, total=  16.0s\n",
      "[CV] multi_clf__estimator__max_depth=10, tfidf__use_idf=False ........\n",
      "[CV]  multi_clf__estimator__max_depth=10, tfidf__use_idf=False, score=0.2078683834048641, total=  16.7s\n"
     ]
    },
    {
     "name": "stderr",
     "output_type": "stream",
     "text": [
      "[Parallel(n_jobs=-1)]: Done  12 out of  12 | elapsed:  2.7min finished\n"
     ]
    },
    {
     "data": {
      "text/plain": [
       "GridSearchCV(cv=None, error_score='raise',\n",
       "       estimator=Pipeline(memory=None,\n",
       "     steps=[('vect', CountVectorizer(analyzer='word', binary=False, decode_error='strict',\n",
       "        dtype=<class 'numpy.int64'>, encoding='utf-8', input='content',\n",
       "        lowercase=True, max_df=1.0, max_features=None, min_df=1,\n",
       "        ngram_range=(1, 1), preprocessor=None, stop_words=None,\n",
       "        strip...ion_leaf=0.0, presort=False, random_state=None,\n",
       "            splitter='best'),\n",
       "           n_jobs=1))]),\n",
       "       fit_params=None, iid=True, n_jobs=-1,\n",
       "       param_grid={'tfidf__use_idf': (True, False), 'multi_clf__estimator__max_depth': [5, 10]},\n",
       "       pre_dispatch='2*n_jobs', refit=True, return_train_score='warn',\n",
       "       scoring=None, verbose=5)"
      ]
     },
     "execution_count": 13,
     "metadata": {},
     "output_type": "execute_result"
    }
   ],
   "source": [
    "cv.fit(X_train, Y_train)"
   ]
  },
  {
   "cell_type": "markdown",
   "metadata": {},
   "source": [
    "### 7. Test your model\n",
    "Show the accuracy, precision, and recall of the tuned model.  \n",
    "\n",
    "Since this project focuses on code quality, process, and  pipelines, there is no minimum performance metric needed to pass. However, make sure to fine tune your models for accuracy, precision and recall to make your project stand out - especially for your portfolio!"
   ]
  },
  {
   "cell_type": "code",
   "execution_count": 14,
   "metadata": {},
   "outputs": [
    {
     "name": "stdout",
     "output_type": "stream",
     "text": [
      "             precision    recall  f1-score   support\n",
      "\n",
      "          0       0.47      0.45      0.46      1208\n",
      "          1       0.83      0.85      0.84      3990\n",
      "          2       0.43      0.52      0.47        46\n",
      "\n",
      "avg / total       0.75      0.75      0.75      5244\n",
      "\n",
      "             precision    recall  f1-score   support\n",
      "\n",
      "          0       0.91      0.92      0.92      4356\n",
      "          1       0.59      0.57      0.58       888\n",
      "\n",
      "avg / total       0.86      0.86      0.86      5244\n",
      "\n",
      "             precision    recall  f1-score   support\n",
      "\n",
      "          0       0.99      1.00      1.00      5216\n",
      "          1       0.06      0.04      0.04        28\n",
      "\n",
      "avg / total       0.99      0.99      0.99      5244\n",
      "\n",
      "             precision    recall  f1-score   support\n",
      "\n",
      "          0       0.73      0.74      0.73      2996\n",
      "          1       0.65      0.64      0.64      2248\n",
      "\n",
      "avg / total       0.69      0.70      0.70      5244\n",
      "\n",
      "             precision    recall  f1-score   support\n",
      "\n",
      "          0       0.94      0.95      0.94      4798\n",
      "          1       0.37      0.34      0.36       446\n",
      "\n",
      "avg / total       0.89      0.90      0.89      5244\n",
      "\n",
      "             precision    recall  f1-score   support\n",
      "\n",
      "          0       0.97      0.97      0.97      4961\n",
      "          1       0.45      0.43      0.44       283\n",
      "\n",
      "avg / total       0.94      0.94      0.94      5244\n",
      "\n",
      "             precision    recall  f1-score   support\n",
      "\n",
      "          0       0.98      0.98      0.98      5111\n",
      "          1       0.28      0.25      0.26       133\n",
      "\n",
      "avg / total       0.96      0.96      0.96      5244\n",
      "\n",
      "             precision    recall  f1-score   support\n",
      "\n",
      "          0       0.99      0.98      0.99      5162\n",
      "          1       0.11      0.12      0.11        82\n",
      "\n",
      "avg / total       0.97      0.97      0.97      5244\n",
      "\n",
      "             precision    recall  f1-score   support\n",
      "\n",
      "          0       0.98      0.99      0.98      5056\n",
      "          1       0.50      0.36      0.42       188\n",
      "\n",
      "avg / total       0.96      0.96      0.96      5244\n",
      "\n",
      "             precision    recall  f1-score   support\n",
      "\n",
      "          0       1.00      1.00      1.00      5244\n",
      "\n",
      "avg / total       1.00      1.00      1.00      5244\n",
      "\n",
      "             precision    recall  f1-score   support\n",
      "\n",
      "          0       0.97      0.98      0.97      4911\n",
      "          1       0.62      0.59      0.61       333\n",
      "\n",
      "avg / total       0.95      0.95      0.95      5244\n",
      "\n",
      "             precision    recall  f1-score   support\n",
      "\n",
      "          0       0.97      0.96      0.96      4659\n",
      "          1       0.70      0.72      0.71       585\n",
      "\n",
      "avg / total       0.94      0.93      0.93      5244\n",
      "\n",
      "             precision    recall  f1-score   support\n",
      "\n",
      "          0       0.96      0.96      0.96      4730\n",
      "          1       0.63      0.59      0.61       514\n",
      "\n",
      "avg / total       0.92      0.93      0.93      5244\n",
      "\n",
      "             precision    recall  f1-score   support\n",
      "\n",
      "          0       0.99      0.99      0.99      5141\n",
      "          1       0.64      0.57      0.61       103\n",
      "\n",
      "avg / total       0.98      0.99      0.98      5244\n",
      "\n",
      "             precision    recall  f1-score   support\n",
      "\n",
      "          0       0.98      0.98      0.98      5128\n",
      "          1       0.32      0.31      0.31       116\n",
      "\n",
      "avg / total       0.97      0.97      0.97      5244\n",
      "\n",
      "             precision    recall  f1-score   support\n",
      "\n",
      "          0       0.99      0.99      0.99      5191\n",
      "          1       0.21      0.19      0.20        53\n",
      "\n",
      "avg / total       0.98      0.98      0.98      5244\n",
      "\n",
      "             precision    recall  f1-score   support\n",
      "\n",
      "          0       0.97      0.98      0.98      5055\n",
      "          1       0.36      0.30      0.33       189\n",
      "\n",
      "avg / total       0.95      0.96      0.95      5244\n",
      "\n",
      "             precision    recall  f1-score   support\n",
      "\n",
      "          0       0.98      0.98      0.98      5000\n",
      "          1       0.58      0.52      0.55       244\n",
      "\n",
      "avg / total       0.96      0.96      0.96      5244\n",
      "\n",
      "             precision    recall  f1-score   support\n",
      "\n",
      "          0       0.89      0.90      0.89      4545\n",
      "          1       0.30      0.28      0.29       699\n",
      "\n",
      "avg / total       0.81      0.82      0.81      5244\n",
      "\n",
      "             precision    recall  f1-score   support\n",
      "\n",
      "          0       0.94      0.94      0.94      4899\n",
      "          1       0.16      0.15      0.16       345\n",
      "\n",
      "avg / total       0.89      0.89      0.89      5244\n",
      "\n",
      "             precision    recall  f1-score   support\n",
      "\n",
      "          0       0.97      0.97      0.97      5017\n",
      "          1       0.32      0.28      0.30       227\n",
      "\n",
      "avg / total       0.94      0.94      0.94      5244\n",
      "\n",
      "             precision    recall  f1-score   support\n",
      "\n",
      "          0       0.97      0.97      0.97      4985\n",
      "          1       0.36      0.38      0.37       259\n",
      "\n",
      "avg / total       0.94      0.94      0.94      5244\n",
      "\n",
      "             precision    recall  f1-score   support\n",
      "\n",
      "          0       0.99      0.99      0.99      5143\n",
      "          1       0.43      0.35      0.38       101\n",
      "\n",
      "avg / total       0.98      0.98      0.98      5244\n",
      "\n",
      "             precision    recall  f1-score   support\n",
      "\n",
      "          0       1.00      0.99      1.00      5219\n",
      "          1       0.06      0.08      0.07        25\n",
      "\n",
      "avg / total       0.99      0.99      0.99      5244\n",
      "\n",
      "             precision    recall  f1-score   support\n",
      "\n",
      "          0       0.99      0.99      0.99      5190\n",
      "          1       0.14      0.13      0.14        54\n",
      "\n",
      "avg / total       0.98      0.98      0.98      5244\n",
      "\n",
      "             precision    recall  f1-score   support\n",
      "\n",
      "          0       0.99      1.00      1.00      5217\n",
      "          1       0.00      0.00      0.00        27\n",
      "\n",
      "avg / total       0.99      0.99      0.99      5244\n",
      "\n",
      "             precision    recall  f1-score   support\n",
      "\n",
      "          0       0.99      0.99      0.99      5166\n",
      "          1       0.18      0.12      0.14        78\n",
      "\n",
      "avg / total       0.97      0.98      0.98      5244\n",
      "\n",
      "             precision    recall  f1-score   support\n",
      "\n",
      "          0       0.96      0.96      0.96      5030\n",
      "          1       0.15      0.16      0.15       214\n",
      "\n",
      "avg / total       0.93      0.93      0.93      5244\n",
      "\n",
      "             precision    recall  f1-score   support\n",
      "\n",
      "          0       0.90      0.89      0.89      3786\n",
      "          1       0.72      0.74      0.73      1458\n",
      "\n",
      "avg / total       0.85      0.85      0.85      5244\n",
      "\n",
      "             precision    recall  f1-score   support\n",
      "\n",
      "          0       0.96      0.97      0.97      4820\n",
      "          1       0.62      0.59      0.60       424\n",
      "\n",
      "avg / total       0.94      0.94      0.94      5244\n",
      "\n",
      "             precision    recall  f1-score   support\n",
      "\n",
      "          0       0.97      0.96      0.96      4756\n",
      "          1       0.65      0.66      0.66       488\n",
      "\n",
      "avg / total       0.94      0.94      0.94      5244\n",
      "\n",
      "             precision    recall  f1-score   support\n",
      "\n",
      "          0       0.99      0.99      0.99      5183\n",
      "          1       0.34      0.33      0.34        61\n",
      "\n",
      "avg / total       0.98      0.98      0.98      5244\n",
      "\n",
      "             precision    recall  f1-score   support\n",
      "\n",
      "          0       0.98      0.98      0.98      4743\n",
      "          1       0.78      0.81      0.80       501\n",
      "\n",
      "avg / total       0.96      0.96      0.96      5244\n",
      "\n",
      "             precision    recall  f1-score   support\n",
      "\n",
      "          0       0.99      0.99      0.99      5138\n",
      "          1       0.45      0.42      0.43       106\n",
      "\n",
      "avg / total       0.98      0.98      0.98      5244\n",
      "\n",
      "             precision    recall  f1-score   support\n",
      "\n",
      "          0       0.96      0.96      0.96      4985\n",
      "          1       0.23      0.21      0.22       259\n",
      "\n",
      "avg / total       0.92      0.93      0.92      5244\n",
      "\n",
      "             precision    recall  f1-score   support\n",
      "\n",
      "          0       0.88      0.90      0.89      4246\n",
      "          1       0.53      0.49      0.51       998\n",
      "\n",
      "avg / total       0.82      0.82      0.82      5244\n",
      "\n"
     ]
    }
   ],
   "source": [
    "y_predict = pipeline.predict(X_test)\n",
    "for i in range(Y_test.shape[1]):\n",
    "    print(classification_report(Y_test.values[:,i], y_predict[:, i]))"
   ]
  },
  {
   "cell_type": "markdown",
   "metadata": {},
   "source": [
    "### 8. Try improving your model further. Here are a few ideas:\n",
    "* try other machine learning algorithms\n",
    "* add other features besides the TF-IDF"
   ]
  },
  {
   "cell_type": "code",
   "execution_count": 15,
   "metadata": {},
   "outputs": [],
   "source": [
    "pipeline = Pipeline([('vect', CountVectorizer(tokenizer=tokenize)),\n",
    "        ('tfidf', TfidfTransformer()),\n",
    "        ('multi_clf', MultiOutputClassifier(RandomForestClassifier(class_weight = 'balanced')))])"
   ]
  },
  {
   "cell_type": "code",
   "execution_count": 16,
   "metadata": {},
   "outputs": [],
   "source": [
    "parameters = {'vect__ngram_range': ((1,1), (1, 2)), 'multi_clf__estimator__min_samples_split':[2, 4]}\n",
    "cv = GridSearchCV(pipeline, parameters, n_jobs = -1, verbose = 5)"
   ]
  },
  {
   "cell_type": "code",
   "execution_count": 17,
   "metadata": {},
   "outputs": [
    {
     "name": "stdout",
     "output_type": "stream",
     "text": [
      "Fitting 3 folds for each of 4 candidates, totalling 12 fits\n",
      "[CV] multi_clf__estimator__min_samples_split=2, vect__ngram_range=(1, 1) \n",
      "[CV]  multi_clf__estimator__min_samples_split=2, vect__ngram_range=(1, 1), score=0.23444428550994134, total= 2.2min\n",
      "[CV] multi_clf__estimator__min_samples_split=2, vect__ngram_range=(1, 1) \n"
     ]
    },
    {
     "name": "stderr",
     "output_type": "stream",
     "text": [
      "[Parallel(n_jobs=-1)]: Done   1 out of   1 | elapsed:  3.3min remaining:    0.0s\n"
     ]
    },
    {
     "name": "stdout",
     "output_type": "stream",
     "text": [
      "[CV]  multi_clf__estimator__min_samples_split=2, vect__ngram_range=(1, 1), score=0.23444428550994134, total= 2.2min\n",
      "[CV] multi_clf__estimator__min_samples_split=2, vect__ngram_range=(1, 1) \n"
     ]
    },
    {
     "name": "stderr",
     "output_type": "stream",
     "text": [
      "[Parallel(n_jobs=-1)]: Done   2 out of   2 | elapsed:  6.5min remaining:    0.0s\n"
     ]
    },
    {
     "name": "stdout",
     "output_type": "stream",
     "text": [
      "[CV]  multi_clf__estimator__min_samples_split=2, vect__ngram_range=(1, 1), score=0.2317596566523605, total= 2.2min\n",
      "[CV] multi_clf__estimator__min_samples_split=2, vect__ngram_range=(1, 2) \n"
     ]
    },
    {
     "name": "stderr",
     "output_type": "stream",
     "text": [
      "[Parallel(n_jobs=-1)]: Done   3 out of   3 | elapsed:  9.8min remaining:    0.0s\n"
     ]
    },
    {
     "name": "stdout",
     "output_type": "stream",
     "text": [
      "[CV]  multi_clf__estimator__min_samples_split=2, vect__ngram_range=(1, 2), score=0.23644686024889144, total= 3.4min\n",
      "[CV] multi_clf__estimator__min_samples_split=2, vect__ngram_range=(1, 2) \n"
     ]
    },
    {
     "name": "stderr",
     "output_type": "stream",
     "text": [
      "[Parallel(n_jobs=-1)]: Done   4 out of   4 | elapsed: 14.2min remaining:    0.0s\n"
     ]
    },
    {
     "name": "stdout",
     "output_type": "stream",
     "text": [
      "[CV]  multi_clf__estimator__min_samples_split=2, vect__ngram_range=(1, 2), score=0.24474324131025604, total= 3.3min\n",
      "[CV] multi_clf__estimator__min_samples_split=2, vect__ngram_range=(1, 2) \n",
      "[CV]  multi_clf__estimator__min_samples_split=2, vect__ngram_range=(1, 2), score=0.23533619456366237, total= 3.3min\n",
      "[CV] multi_clf__estimator__min_samples_split=4, vect__ngram_range=(1, 1) \n",
      "[CV]  multi_clf__estimator__min_samples_split=4, vect__ngram_range=(1, 1), score=0.23415820340437707, total= 2.1min\n",
      "[CV] multi_clf__estimator__min_samples_split=4, vect__ngram_range=(1, 1) \n",
      "[CV]  multi_clf__estimator__min_samples_split=4, vect__ngram_range=(1, 1), score=0.23215562866542697, total= 2.0min\n",
      "[CV] multi_clf__estimator__min_samples_split=4, vect__ngram_range=(1, 1) \n",
      "[CV]  multi_clf__estimator__min_samples_split=4, vect__ngram_range=(1, 1), score=0.2390557939914163, total= 2.1min\n",
      "[CV] multi_clf__estimator__min_samples_split=4, vect__ngram_range=(1, 2) \n",
      "[CV]  multi_clf__estimator__min_samples_split=4, vect__ngram_range=(1, 2), score=0.23086825919038764, total= 2.9min\n",
      "[CV] multi_clf__estimator__min_samples_split=4, vect__ngram_range=(1, 2) \n",
      "[CV]  multi_clf__estimator__min_samples_split=4, vect__ngram_range=(1, 2), score=0.23844943498784152, total= 2.9min\n",
      "[CV] multi_clf__estimator__min_samples_split=4, vect__ngram_range=(1, 2) \n",
      "[CV]  multi_clf__estimator__min_samples_split=4, vect__ngram_range=(1, 2), score=0.22918454935622318, total= 2.9min\n"
     ]
    },
    {
     "name": "stderr",
     "output_type": "stream",
     "text": [
      "[Parallel(n_jobs=-1)]: Done  12 out of  12 | elapsed: 44.5min finished\n"
     ]
    },
    {
     "data": {
      "text/plain": [
       "GridSearchCV(cv=None, error_score='raise',\n",
       "       estimator=Pipeline(memory=None,\n",
       "     steps=[('vect', CountVectorizer(analyzer='word', binary=False, decode_error='strict',\n",
       "        dtype=<class 'numpy.int64'>, encoding='utf-8', input='content',\n",
       "        lowercase=True, max_df=1.0, max_features=None, min_df=1,\n",
       "        ngram_range=(1, 1), preprocessor=None, stop_words=None,\n",
       "        strip...oob_score=False, random_state=None,\n",
       "            verbose=0, warm_start=False),\n",
       "           n_jobs=1))]),\n",
       "       fit_params=None, iid=True, n_jobs=-1,\n",
       "       param_grid={'vect__ngram_range': ((1, 1), (1, 2)), 'multi_clf__estimator__min_samples_split': [2, 4]},\n",
       "       pre_dispatch='2*n_jobs', refit=True, return_train_score='warn',\n",
       "       scoring=None, verbose=5)"
      ]
     },
     "execution_count": 17,
     "metadata": {},
     "output_type": "execute_result"
    }
   ],
   "source": [
    "cv.fit(X_train, Y_train)"
   ]
  },
  {
   "cell_type": "markdown",
   "metadata": {},
   "source": [
    "### 9. Export your model as a pickle file"
   ]
  },
  {
   "cell_type": "code",
   "execution_count": 18,
   "metadata": {},
   "outputs": [],
   "source": [
    "with open('clf.pkl', 'wb') as file:\n",
    "    pickle.dump(cv, file)"
   ]
  },
  {
   "cell_type": "markdown",
   "metadata": {},
   "source": [
    "### 10. Use this notebook to complete `train.py`\n",
    "Use the template file attached in the Resources folder to write a script that runs the steps above to create a database and export a model based on a new dataset specified by the user."
   ]
  },
  {
   "cell_type": "code",
   "execution_count": null,
   "metadata": {},
   "outputs": [],
   "source": [
    "s"
   ]
  },
  {
   "cell_type": "code",
   "execution_count": null,
   "metadata": {},
   "outputs": [],
   "source": [
    "dfasdfasdf"
   ]
  }
 ],
 "metadata": {
  "kernelspec": {
   "display_name": "Python 3",
   "language": "python",
   "name": "python3"
  },
  "language_info": {
   "codemirror_mode": {
    "name": "ipython",
    "version": 3
   },
   "file_extension": ".py",
   "mimetype": "text/x-python",
   "name": "python",
   "nbconvert_exporter": "python",
   "pygments_lexer": "ipython3",
   "version": "3.6.3"
  }
 },
 "nbformat": 4,
 "nbformat_minor": 2
}
